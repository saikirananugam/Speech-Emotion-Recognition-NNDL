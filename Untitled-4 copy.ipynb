{
 "cells": [
  {
   "cell_type": "code",
   "execution_count": 29,
   "metadata": {},
   "outputs": [],
   "source": [
    "import librosa\n",
    "import soundfile\n",
    "import os, glob, pickle\n",
    "import numpy as np\n",
    "from sklearn.model_selection import train_test_split\n",
    "from sklearn.neural_network import MLPClassifier\n",
    "from sklearn.metrics import accuracy_score"
   ]
  },
  {
   "cell_type": "code",
   "execution_count": 42,
   "metadata": {},
   "outputs": [],
   "source": [
    "#Install all the Reqiuired Libraries and Packages \n",
    "import os\n",
    "import glob\n",
    "from tqdm import tqdm\n",
    "import pandas as pd\n",
    "import numpy as np\n",
    "import matplotlib.pyplot as plt\n",
    "from scipy.io import wavfile\n",
    "from python_speech_features import mfcc , logfbank\n",
    "import librosa as lr\n",
    "import os, glob, pickle\n",
    "import librosa\n",
    "from scipy import signal\n",
    "import noisereduce as nr\n",
    "from glob import glob\n",
    "import librosa\n",
    "\n",
    "#All the Required Packages and Libraies are installed.\n",
    "import soundfile\n",
    "from tensorflow.keras.layers import Conv2D,MaxPool2D, Flatten, LSTM\n",
    "from keras.layers import Dropout,Dense,TimeDistributed\n",
    "from keras.models import Sequential\n",
    "from tensorflow.keras.utils import to_categorical \n",
    "from sklearn.utils.class_weight import compute_class_weight\n",
    "from sklearn.model_selection import train_test_split\n",
    "from sklearn.neural_network import MLPClassifier\n",
    "from sklearn.metrics import accuracy_score"
   ]
  },
  {
   "cell_type": "code",
   "execution_count": 41,
   "metadata": {},
   "outputs": [
    {
     "data": {
      "text/plain": [
       "1443"
      ]
     },
     "execution_count": 41,
     "metadata": {},
     "output_type": "execute_result"
    }
   ],
   "source": [
    "#Loading the required RAVDESS DataSet with length of 1439 Audio Files \n",
    "#os.listdir(path='.\\speech-emotion-recognition-ravdess-data')\n",
    "os.listdir(path='datasets.csv')\n",
    "\n",
    "def getListOfFiles(dirName):\n",
    "    listOfFile=os.listdir(dirName)\n",
    "    allFiles=list()\n",
    "    for entry in listOfFile:\n",
    "        fullPath=os.path.join(dirName, entry)\n",
    "        if os.path.isdir(fullPath):\n",
    "            allFiles=allFiles + getListOfFiles(fullPath)\n",
    "        else:\n",
    "            allFiles.append(fullPath)\n",
    "    return allFiles\n",
    "\n",
    "dirName = 'datasets.csv'\n",
    "listOfFiles = getListOfFiles(dirName)\n",
    "len(listOfFiles)"
   ]
  },
  {
   "cell_type": "code",
   "execution_count": 43,
   "metadata": {},
   "outputs": [],
   "source": [
    "#Now Cleaning Step is Performed where:\n",
    "#DOWN SAMPLING OF AUDIO FILES IS DONE  AND PUT MASK OVER IT AND DIRECT INTO CLEAN FOLDER\n",
    "#MASK IS TO REMOVE UNNECESSARY EMPTY VOIVES AROUND THE MAIN AUDIO VOICE \n",
    "def envelope(y , rate, threshold):#signal , rate , 0.0005\n",
    "    mask=[]\n",
    "    y=pd.Series(y).apply(np.abs)\n",
    "    y_mean = y.rolling(window=int(rate/10) ,  min_periods=1 , center = True).mean()\n",
    "    for mean in y_mean:\n",
    "        if mean>threshold:\n",
    "            mask.append(True)\n",
    "        else:\n",
    "            mask.append(False)\n",
    "    return mask"
   ]
  },
  {
   "cell_type": "code",
   "execution_count": 44,
   "metadata": {},
   "outputs": [
    {
     "data": {
      "image/png": "[encoded data removed]",
      "text/plain": [
       "<Figure size 432x288 with 1 Axes>"
      ]
     },
     "metadata": {
      "needs_background": "light"
     },
     "output_type": "display_data"
    }
   ],
   "source": [
    "#Plotting the Basic Graphs for understanding of Audio Files :\n",
    "audio , sfreq = lr.load('datasets.csv/Actor_01/03-01-01-01-02-01-01.wav')\n",
    "time = np.arange(0 , len(audio)) / sfreq\n",
    "    \n",
    "fig ,ax = plt.subplots()\n",
    "ax.plot(time , audio)\n",
    "ax.set(xlabel = 'Time (s)' , ylabel = 'Sound Amplitude')\n",
    "plt.show()"
   ]
  },
  {
   "cell_type": "code",
   "execution_count": 45,
   "metadata": {},
   "outputs": [
    {
     "name": "stderr",
     "output_type": "stream",
     "text": [
      "/var/folders/cf/78m2pngj3kqgdk88fltk67r80000gn/T/ipykernel_9678/311619544.py:5: MatplotlibDeprecationWarning: shading='flat' when X and Y have the same dimensions as C is deprecated since 3.3.  Either specify the corners of the quadrilaterals with X and Y, or pass shading='auto', 'nearest' or 'gouraud', or set rcParams['pcolor.shading'].  This will become an error two minor releases later.\n",
      "  plt.pcolormesh(times, frequencies, spectrogram)\n"
     ]
    },
    {
     "data": {
      "image/png": "[encoded data removed]",
      "text/plain": [
       "<Figure size 432x288 with 1 Axes>"
      ]
     },
     "metadata": {
      "needs_background": "light"
     },
     "output_type": "display_data"
    }
   ],
   "source": [
    "#PLOT THE SEPCTOGRAM\n",
    "\n",
    "sample_rate , samples = wavfile.read('datasets.csv/Actor_01/03-01-02-02-01-01-01.wav')\n",
    "frequencies , times, spectrogram = signal.spectrogram(samples, sample_rate) \n",
    "plt.pcolormesh(times, frequencies, spectrogram)\n",
    "plt.imshow(spectrogram)\n",
    "plt.ylabel('Frequency [Hz]')\n",
    "plt.xlabel('Time [sec]')\n",
    "plt.show()"
   ]
  },
  {
   "cell_type": "code",
   "execution_count": 46,
   "metadata": {},
   "outputs": [],
   "source": [
    "#Next Step is In-Depth Visualisation of Audio Fiels and its certain features to plot for.\n",
    "#They are the Plotting Functions to be called later. \n",
    "def plot_signals(signals):\n",
    "    fig , axes = plt.subplots(nrows=2, ncols=5,sharex =False , sharey=True, figsize=(20,5))\n",
    "    fig.suptitle('Time Series' , size=16)\n",
    "    i=0\n",
    "    for x in range(2):\n",
    "        for y in range(5):\n",
    "            axes[x,y].set_title(list(signals.keys())[i])\n",
    "            axes[x,y].plot(list(signals.values())[i])\n",
    "            axes[x,y].get_xaxis().set_visible(False)\n",
    "            axes[x,y].get_yaxis().set_visible(False)\n",
    "            i +=1\n",
    "\n",
    "def plot_fft(fft):\n",
    "    fig , axes = plt.subplots(nrows=2, ncols=5,sharex =False , sharey=True, figsize=(20,5))\n",
    "    fig.suptitle('Fourier Transform' , size=16)\n",
    "    i=0\n",
    "    for x in range(2):\n",
    "        for y in range(5):\n",
    "            data = list(fft.values())[i]\n",
    "            Y,freq = data[0] , data[1]\n",
    "            axes[x,y].set_title(list(fft.keys())[i])\n",
    "            axes[x,y].plot(freq , Y)\n",
    "            axes[x,y].get_xaxis().set_visible(False)\n",
    "            axes[x,y].get_yaxis().set_visible(False)\n",
    "            i +=1\n",
    "    \n",
    "def plot_fbank(fbank):\n",
    "    fig , axes = plt.subplots(nrows=2, ncols=5,sharex =False , sharey=True, figsize=(20,5))\n",
    "    fig.suptitle('Filter Bank Coefficients' , size=16)\n",
    "    i=0\n",
    "    for x in range(2):\n",
    "        for y in range(5):\n",
    "            axes[x,y].set_title(list(fbank.keys())[i])\n",
    "            axes[x,y].imshow(list(fbank.values())[i],cmap='hot', interpolation = 'nearest')\n",
    "            axes[x,y].get_xaxis().set_visible(False)\n",
    "            axes[x,y].get_yaxis().set_visible(False)\n",
    "            i +=1\n",
    "            \n",
    "def plot_mfccs(mfccs):\n",
    "    fig , axes = plt.subplots(nrows=2, ncols=5,sharex =False , sharey=True, figsize=(20,5))\n",
    "    fig.suptitle('Mel Frequency Capstrum  Coefficients' , size=16)\n",
    "    i=0\n",
    "    for x in range(2):\n",
    "        for y in range(5):\n",
    "            axes[x,y].set_title(list(mfccs.keys())[i])\n",
    "            axes[x,y].imshow(list(mfccs.values())[i],\n",
    "                             cmap='hot', interpolation = 'nearest')\n",
    "            axes[x,y].get_xaxis().set_visible(False)\n",
    "            axes[x,y].get_yaxis().set_visible(False)\n",
    "            i +=1\n",
    "\n",
    "def calc_fft(y,rate):\n",
    "    n = len(y)\n",
    "    freq = np.fft.rfftfreq(n , d= 1/rate)\n",
    "    Y= abs(np.fft.rfft(y)/n)\n",
    "    return(Y,freq)"
   ]
  },
  {
   "cell_type": "code",
   "execution_count": 47,
   "metadata": {},
   "outputs": [
    {
     "data": {
      "image/png": "[encoded data removed]",
      "text/plain": [
       "<Figure size 432x288 with 1 Axes>"
      ]
     },
     "metadata": {
      "needs_background": "light"
     },
     "output_type": "display_data"
    }
   ],
   "source": [
    "# Here The Data Set is loaded and plots are Visualised by Calling the Plotting Functions . \n",
    "import matplotlib.pyplot as plt\n",
    "from scipy.io import wavfile as wav\n",
    "from scipy.fftpack import fft\n",
    "import numpy as np\n",
    "\n",
    "file='datasets.csv/Actor_01/03-01-01-01-01-02-01.wav'\n",
    "rate, data = wav.read(file)\n",
    "fft_out = fft(data)\n",
    "%matplotlib inline\n",
    "plt.plot(data, np.abs(fft_out))\n",
    "plt.show()\n",
    "    \n",
    "signals={}\n",
    "fft={}\n",
    "fbank={}\n",
    "mfccs={}\n",
    "# load data\n",
    "\n",
    "#     rate, data = wavfile.read(listOfFiles[file])\n",
    "signal,rate =librosa.load(file , sr=44100)\n",
    "mask = envelope(signal , rate , 0.0005)\n",
    "signals[file] = signal\n",
    "fft[file] = calc_fft(signal , rate)\n",
    "    \n",
    "bank = logfbank(signal[:rate] , rate , nfilt = 26, nfft = 1103).T\n",
    "fbank[file] = bank\n",
    "mel = mfcc(signal[:rate] , rate , numcep =13 , nfilt = 26 , nfft=1103).T\n",
    "     "
   ]
  },
  {
   "cell_type": "code",
   "execution_count": 48,
   "metadata": {},
   "outputs": [],
   "source": [
    "#Now Cleaning Step is Performed where:\n",
    "#DOWN SAMPLING OF AUDIO FILES IS DONE  AND PUT MASK OVER IT AND DIRECT INTO CLEAN FOLDER\n",
    "#MASK IS TO REMOVE UNNECESSARY EMPTY VOIVES AROUND THE MAIN AUDIO VOICE \n",
    "def envelope(y , rate, threshold):\n",
    "    mask=[]\n",
    "    y=pd.Series(y).apply(np.abs)\n",
    "    y_mean = y.rolling(window=int(rate/10) ,  min_periods=1 , center = True).mean()\n",
    "    for mean in y_mean:\n",
    "        if mean>threshold:\n",
    "            mask.append(True)\n",
    "        else:\n",
    "            mask.append(False)\n",
    "    return mask"
   ]
  },
  {
   "cell_type": "code",
   "execution_count": 49,
   "metadata": {},
   "outputs": [
    {
     "name": "stderr",
     "output_type": "stream",
     "text": [
      "100%|██████████| 1440/1440 [00:21<00:00, 68.14it/s]\n"
     ]
    }
   ],
   "source": [
    "#The clean Audio Files are redirected to Clean Audio Folder Directory \n",
    "import glob,pickle\n",
    "for file in tqdm(glob.glob(r'/Users/saikirananugam/Desktop/Capstone/datasets.csv/Actor_*//*.wav')):\n",
    "    file_name = os.path.basename(file)\n",
    "    signal , rate = librosa.load(file, sr=16000)\n",
    "    mask = envelope(signal,rate, 0.0005)\n",
    "    wavfile.write(filename= r'/Users/saikirananugam/Desktop/Capstone/clean_speech//'+str(file_name), rate=rate,data=signal[mask])"
   ]
  },
  {
   "cell_type": "code",
   "execution_count": 30,
   "metadata": {},
   "outputs": [],
   "source": [
    "#Extract features (mfcc, chroma, mel) from a sound file\n",
    "def extract_feature(file_name, mfcc, chroma, mel):\n",
    "    with soundfile.SoundFile(file_name) as sound_file:\n",
    "        X = sound_file.read(dtype=\"float32\")\n",
    "        sample_rate=sound_file.samplerate\n",
    "        if chroma:\n",
    "            stft=np.abs(librosa.stft(X))\n",
    "        result=np.array([])\n",
    "        if mfcc:\n",
    "            mfccs=np.mean(librosa.feature.mfcc(y=X, sr=sample_rate, n_mfcc=40).T, axis=0)\n",
    "            result=np.hstack((result, mfccs))\n",
    "        if chroma:\n",
    "            chroma=np.mean(librosa.feature.chroma_stft(S=stft, sr=sample_rate).T,axis=0)\n",
    "            result=np.hstack((result, chroma))\n",
    "        if mel:\n",
    "            mel=np.mean(librosa.feature.melspectrogram(X, sr=sample_rate).T,axis=0)\n",
    "            result=np.hstack((result, mel))\n",
    "    return result"
   ]
  },
  {
   "cell_type": "code",
   "execution_count": 50,
   "metadata": {},
   "outputs": [],
   "source": [
    "# Emotions in the RAVDESS dataset\n",
    "emotions={\n",
    "  '01':'neutral',\n",
    "  '02':'calm',\n",
    "  '03':'happy',\n",
    "  '04':'sad',\n",
    "  '05':'angry',\n",
    "  '06':'fearful',\n",
    "  '07':'disgust',\n",
    "  '08':'surprised'\n",
    "}\n",
    "\n",
    "#Emotions to observe\n",
    "observed_emotions=['calm', 'happy', 'fearful', 'disgust']"
   ]
  },
  {
   "cell_type": "code",
   "execution_count": 51,
   "metadata": {},
   "outputs": [],
   "source": [
    "#Load the data and extract features for each sound file\n",
    "from glob import glob\n",
    "import os\n",
    "import glob\n",
    "def load_data(test_size=0.33):\n",
    "    x,y=[],[]\n",
    "    answer = 0\n",
    "    for file in glob.glob(r'/Users/saikirananugam/Desktop/Capstone/datasets.csv/Actor_*//*.wav'):\n",
    "        file_name=os.path.basename(file)\n",
    "        emotion=emotions[file_name.split(\"-\")[2]]\n",
    "        if emotion not in observed_emotions:\n",
    "            answer += 1\n",
    "            continue\n",
    "        feature=extract_feature(file, mfcc=True, chroma=True, mel=True)\n",
    "        x.append(feature)\n",
    "        y.append([emotion,file_name])\n",
    "    return train_test_split(np.array(x), y, test_size=test_size, random_state=9)"
   ]
  },
  {
   "cell_type": "code",
   "execution_count": 52,
   "metadata": {},
   "outputs": [
    {
     "name": "stdout",
     "output_type": "stream",
     "text": [
      "(576, 180) (192, 180) (576, 2) (192, 2)\n",
      "(576,) (192,)\n",
      "03-01-02-01-02-02-23.wav\n",
      "03-01-06-01-02-02-04.wav\n",
      "03-01-07-02-01-02-07.wav\n",
      "03-01-07-02-02-02-21.wav\n",
      "03-01-03-01-02-02-07.wav\n",
      "03-01-06-02-01-02-12.wav\n",
      "03-01-02-01-01-02-13.wav\n",
      "03-01-03-01-01-01-18.wav\n",
      "03-01-07-01-02-01-12.wav\n",
      "03-01-02-02-01-02-24.wav\n",
      "03-01-03-01-01-01-19.wav\n",
      "03-01-07-01-01-01-23.wav\n",
      "03-01-07-02-01-02-14.wav\n",
      "03-01-02-02-02-02-12.wav\n",
      "03-01-03-01-02-02-15.wav\n",
      "03-01-07-01-01-02-02.wav\n",
      "03-01-06-01-02-02-11.wav\n",
      "03-01-03-02-01-01-13.wav\n",
      "03-01-07-02-01-01-05.wav\n",
      "03-01-03-01-01-02-18.wav\n",
      "03-01-06-01-01-02-21.wav\n",
      "03-01-03-01-02-02-16.wav\n",
      "03-01-03-02-01-02-17.wav\n",
      "03-01-03-01-02-02-18.wav\n",
      "03-01-06-02-01-01-19.wav\n",
      "03-01-03-01-01-01-20.wav\n",
      "03-01-03-02-01-02-04.wav\n",
      "03-01-03-01-02-02-03.wav\n",
      "03-01-07-01-01-01-15.wav\n",
      "03-01-03-01-01-02-04.wav\n",
      "03-01-03-01-02-01-12.wav\n",
      "03-01-07-02-01-01-06.wav\n",
      "03-01-07-01-02-02-01.wav\n",
      "03-01-07-01-01-02-04.wav\n",
      "03-01-02-02-01-02-12.wav\n",
      "03-01-07-01-02-01-08.wav\n",
      "03-01-02-02-01-01-14.wav\n",
      "03-01-03-02-02-01-06.wav\n",
      "03-01-06-02-02-02-09.wav\n",
      "03-01-03-02-01-02-24.wav\n",
      "03-01-03-02-01-01-01.wav\n",
      "03-01-03-02-02-02-19.wav\n",
      "03-01-02-01-02-01-10.wav\n",
      "03-01-03-02-02-02-14.wav\n",
      "03-01-07-01-01-01-22.wav\n",
      "03-01-07-02-01-01-21.wav\n",
      "03-01-02-01-02-01-24.wav\n",
      "03-01-06-02-02-01-13.wav\n",
      "03-01-07-01-02-01-20.wav\n",
      "03-01-03-02-01-01-11.wav\n",
      "03-01-06-02-01-01-14.wav\n",
      "03-01-03-01-01-01-05.wav\n",
      "03-01-06-01-02-01-10.wav\n",
      "03-01-07-02-01-02-21.wav\n",
      "03-01-03-02-02-01-09.wav\n",
      "03-01-07-02-02-02-06.wav\n",
      "03-01-02-01-01-01-05.wav\n",
      "03-01-07-02-01-02-11.wav\n",
      "03-01-02-01-02-01-17.wav\n",
      "03-01-07-01-01-01-11.wav\n",
      "03-01-03-02-02-02-21.wav\n",
      "03-01-06-02-01-02-02.wav\n",
      "03-01-02-02-02-01-06.wav\n",
      "03-01-06-02-02-02-23.wav\n",
      "03-01-06-02-01-02-19.wav\n",
      "03-01-07-01-02-01-22.wav\n",
      "03-01-07-02-02-01-16.wav\n",
      "03-01-02-02-02-01-02.wav\n",
      "03-01-03-01-02-02-12.wav\n",
      "03-01-03-02-01-01-15.wav\n",
      "03-01-03-02-02-01-01.wav\n",
      "03-01-02-02-01-02-11.wav\n",
      "03-01-03-02-01-01-18.wav\n",
      "03-01-06-01-01-01-20.wav\n",
      "03-01-07-01-02-02-08.wav\n",
      "03-01-06-01-01-02-11.wav\n",
      "03-01-02-02-01-02-10.wav\n",
      "03-01-07-01-02-02-06.wav\n",
      "03-01-02-01-02-01-04.wav\n",
      "03-01-03-01-01-01-07.wav\n",
      "03-01-02-01-01-01-04.wav\n",
      "03-01-03-02-02-02-04.wav\n",
      "03-01-06-02-01-01-24.wav\n",
      "03-01-07-02-02-01-14.wav\n",
      "03-01-07-02-02-01-08.wav\n",
      "03-01-07-02-01-02-18.wav\n",
      "03-01-02-02-01-01-15.wav\n",
      "03-01-02-01-01-02-01.wav\n",
      "03-01-07-01-02-01-13.wav\n",
      "03-01-02-02-01-02-14.wav\n",
      "03-01-07-01-02-01-11.wav\n",
      "03-01-03-02-01-02-05.wav\n",
      "03-01-03-02-02-02-10.wav\n",
      "03-01-06-01-02-01-03.wav\n",
      "03-01-02-02-01-01-18.wav\n",
      "03-01-03-01-02-01-19.wav\n",
      "03-01-02-02-01-01-10.wav\n",
      "03-01-07-02-01-01-08.wav\n",
      "03-01-03-02-02-02-01.wav\n",
      "03-01-02-02-02-01-04.wav\n",
      "03-01-07-02-01-02-09.wav\n",
      "03-01-07-01-02-01-01.wav\n",
      "03-01-06-01-01-02-16.wav\n",
      "03-01-06-02-02-01-24.wav\n",
      "03-01-07-02-02-01-21.wav\n",
      "03-01-03-02-01-02-08.wav\n",
      "03-01-03-02-02-02-18.wav\n",
      "03-01-02-02-02-02-16.wav\n",
      "03-01-07-01-02-02-19.wav\n",
      "03-01-02-02-02-02-11.wav\n",
      "03-01-03-01-01-01-23.wav\n",
      "03-01-07-02-02-01-01.wav\n",
      "03-01-07-01-01-01-03.wav\n",
      "03-01-06-01-01-01-19.wav\n",
      "03-01-02-02-02-02-08.wav\n",
      "03-01-07-01-02-01-21.wav\n",
      "03-01-03-02-01-02-21.wav\n",
      "03-01-02-01-01-02-11.wav\n",
      "03-01-07-01-02-01-18.wav\n",
      "03-01-07-02-02-02-03.wav\n",
      "03-01-07-02-02-01-03.wav\n",
      "03-01-03-01-02-01-02.wav\n",
      "03-01-06-01-01-02-18.wav\n",
      "03-01-07-01-02-02-11.wav\n",
      "03-01-02-01-02-02-11.wav\n",
      "03-01-06-01-01-02-20.wav\n",
      "03-01-06-01-01-02-14.wav\n",
      "03-01-02-01-02-02-16.wav\n",
      "03-01-02-01-02-01-07.wav\n",
      "03-01-07-01-02-01-23.wav\n",
      "03-01-06-01-01-01-22.wav\n",
      "03-01-02-02-02-02-17.wav\n",
      "03-01-06-02-01-01-23.wav\n",
      "03-01-02-02-02-01-07.wav\n",
      "03-01-02-01-01-01-17.wav\n",
      "03-01-07-01-01-02-09.wav\n",
      "03-01-06-01-02-01-13.wav\n",
      "03-01-02-02-01-01-16.wav\n",
      "03-01-03-02-01-02-01.wav\n",
      "03-01-03-02-01-02-03.wav\n",
      "03-01-07-01-01-01-02.wav\n",
      "03-01-03-02-01-01-09.wav\n",
      "03-01-02-01-01-01-06.wav\n",
      "03-01-03-02-02-02-20.wav\n",
      "03-01-07-01-01-02-23.wav\n",
      "03-01-06-01-02-01-02.wav\n",
      "03-01-03-02-02-01-14.wav\n",
      "03-01-03-02-01-02-14.wav\n",
      "03-01-02-01-02-02-09.wav\n",
      "03-01-07-02-02-01-13.wav\n",
      "03-01-07-01-02-02-13.wav\n",
      "03-01-02-02-01-01-23.wav\n",
      "03-01-02-01-01-02-07.wav\n",
      "03-01-02-01-02-01-11.wav\n",
      "03-01-03-02-02-02-23.wav\n",
      "03-01-07-02-01-01-23.wav\n",
      "03-01-02-02-02-01-22.wav\n",
      "03-01-07-01-02-01-10.wav\n",
      "03-01-02-02-02-01-23.wav\n",
      "03-01-02-02-01-01-04.wav\n",
      "03-01-06-02-01-02-18.wav\n",
      "03-01-07-02-01-01-18.wav\n",
      "03-01-03-01-02-01-14.wav\n",
      "03-01-03-02-02-02-16.wav\n",
      "03-01-07-01-01-01-16.wav\n",
      "03-01-03-02-01-01-23.wav\n",
      "03-01-02-01-01-02-04.wav\n",
      "03-01-02-02-02-02-05.wav\n",
      "03-01-02-01-02-01-14.wav\n",
      "03-01-07-02-01-02-04.wav\n",
      "03-01-06-01-01-01-14.wav\n",
      "03-01-03-01-01-01-22.wav\n",
      "03-01-07-01-02-01-06.wav\n",
      "03-01-06-02-02-02-15.wav\n",
      "03-01-06-01-02-01-18.wav\n",
      "03-01-03-02-01-01-20.wav\n",
      "03-01-02-01-02-01-12.wav\n",
      "03-01-06-02-02-01-09.wav\n",
      "03-01-06-01-01-01-10.wav\n",
      "03-01-06-02-02-01-12.wav\n",
      "03-01-06-01-02-02-24.wav\n",
      "03-01-07-02-02-02-22.wav\n",
      "03-01-06-02-01-02-10.wav\n",
      "03-01-06-02-01-02-14.wav\n",
      "03-01-03-01-02-02-24.wav\n",
      "03-01-06-02-02-01-14.wav\n",
      "03-01-06-02-01-01-08.wav\n",
      "03-01-02-02-01-02-07.wav\n",
      "03-01-07-01-02-02-05.wav\n",
      "03-01-03-01-01-01-24.wav\n",
      "03-01-02-02-02-01-13.wav\n",
      "03-01-07-01-02-01-19.wav\n"
     ]
    }
   ],
   "source": [
    "#Split the dataset\n",
    "import librosa\n",
    "import numpy as np\n",
    "x_train,x_test,y_trai,y_tes=load_data(test_size=0.25)\n",
    "print(np.shape(x_train),np.shape(x_test), np.shape(y_trai),np.shape(y_tes))\n",
    "y_test_map = np.array(y_tes).T\n",
    "y_test = y_test_map[0]\n",
    "test_filename = y_test_map[1]\n",
    "y_train_map = np.array(y_trai).T\n",
    "y_train = y_train_map[0]\n",
    "train_filename = y_train_map[1]\n",
    "print(np.shape(y_train),np.shape(y_test))\n",
    "print(*test_filename,sep=\"\\n\")"
   ]
  },
  {
   "cell_type": "code",
   "execution_count": 53,
   "metadata": {},
   "outputs": [
    {
     "name": "stdout",
     "output_type": "stream",
     "text": [
      "(array([-6.25373413e+02,  5.23846092e+01,  5.74445105e+00,  1.24830475e+01,\n",
      "        1.14345467e+00, -4.00580645e+00, -4.84583950e+00, -9.20268536e-01,\n",
      "       -1.61048698e+00,  2.05063033e+00, -3.92071366e+00,  3.31876922e+00,\n",
      "       -4.08619261e+00,  3.05600643e+00, -3.08054447e+00, -1.51252723e+00,\n",
      "        2.32445908e+00, -1.26518703e+00, -2.75388169e+00, -3.17423368e+00,\n",
      "       -8.59121799e-01, -3.29858279e+00, -1.71077824e+00,  7.90588617e-01,\n",
      "       -1.70709622e+00,  1.73206222e+00,  1.09961927e+00,  1.75144172e+00,\n",
      "        3.81710172e-01,  8.79735172e-01,  6.58167452e-02,  1.90286922e+00,\n",
      "        8.94412100e-01,  5.97632289e-01, -2.23550224e+00, -5.13314940e-02,\n",
      "        1.29087362e-02,  3.64546120e-01, -4.87355739e-02, -1.50945842e+00,\n",
      "        6.87379599e-01,  6.71113253e-01,  6.64967477e-01,  6.76966310e-01,\n",
      "        7.05805421e-01,  7.02129960e-01,  7.56425381e-01,  7.84097195e-01,\n",
      "        8.29020917e-01,  8.68368745e-01,  8.23613346e-01,  7.55185008e-01,\n",
      "        2.09644058e-04,  7.24361962e-05,  7.37944269e-04,  7.72887515e-03,\n",
      "        1.80640016e-02,  2.96702832e-02,  1.65092293e-02,  9.67229903e-03,\n",
      "        3.24755758e-02,  4.47134115e-02,  2.78947260e-02,  3.51842642e-02,\n",
      "        2.84539331e-02,  1.00762481e-02,  7.13785132e-03,  4.79643904e-02,\n",
      "        7.14871958e-02,  9.25621167e-02,  1.50682077e-01,  7.11075291e-02,\n",
      "        5.02451621e-02,  3.77706736e-02,  3.11321542e-02,  1.74183194e-02,\n",
      "        2.41669994e-02,  3.30242626e-02,  4.01164517e-02,  2.87758484e-02,\n",
      "        1.42168617e-02,  1.63861178e-02,  2.88468506e-02,  4.79487665e-02,\n",
      "        2.12342609e-02,  9.67464130e-03,  3.62072662e-02,  3.18199433e-02,\n",
      "        1.36548802e-02,  1.14079835e-02,  4.96345526e-03,  2.21831258e-03,\n",
      "        3.05902446e-03,  6.54333644e-03,  3.10444785e-03,  2.47382233e-03,\n",
      "        5.09342761e-04,  1.03867427e-03,  1.38750300e-03,  2.18561082e-03,\n",
      "        1.85822684e-03,  1.62026100e-03,  8.78088875e-04,  1.73787368e-04,\n",
      "        2.93956226e-04,  7.14619178e-04,  4.44103440e-04,  2.56832776e-04,\n",
      "        5.42144116e-04,  7.90172664e-04,  3.23135784e-04,  3.75509728e-04,\n",
      "        6.68280292e-04,  4.77776572e-04,  8.31215992e-04,  7.54439272e-04,\n",
      "        9.86538595e-04,  4.77042806e-04,  3.76843935e-04,  5.64917689e-04,\n",
      "        4.10612614e-04,  3.81034450e-04,  1.76070767e-04,  2.41018948e-04,\n",
      "        4.68225917e-04,  2.97614111e-04,  2.71016295e-04,  2.72378005e-04,\n",
      "        3.33222211e-04,  5.79585379e-04,  5.08624827e-04,  3.82627884e-04,\n",
      "        2.33558938e-04,  2.97340623e-04,  2.14703890e-04,  1.59893956e-04,\n",
      "        2.14522064e-04,  3.28809838e-04,  9.18441365e-05,  2.48913741e-04,\n",
      "        2.16876797e-04,  1.28412299e-04,  1.26925195e-04,  1.37984636e-04,\n",
      "        1.39259311e-04,  1.56561611e-04,  2.85493938e-04,  1.54017893e-04,\n",
      "        1.16809431e-04,  1.42473174e-04,  6.19547573e-05,  1.13776936e-04,\n",
      "        1.54839479e-04,  2.27287252e-04,  1.14383547e-04,  9.35803982e-05,\n",
      "        8.98101425e-05,  5.68504074e-05,  4.49766558e-05,  3.18886123e-05,\n",
      "        3.36784724e-05,  5.39398352e-05,  8.11942882e-05,  1.03877283e-04,\n",
      "        1.06653846e-04,  1.72152475e-04,  1.82224365e-04,  2.27863959e-04,\n",
      "        2.63275753e-04,  1.09745408e-04,  9.09310038e-05,  1.44933540e-04,\n",
      "        6.04156012e-05,  4.65503472e-05,  4.23558195e-05,  4.92705549e-05,\n",
      "        3.27492417e-05,  1.78654063e-05,  1.30663593e-05,  4.54523888e-06]), array([-6.50842468e+02,  5.31169014e+01, -3.24820185e+00,  1.36377144e+01,\n",
      "        1.04317796e+00, -4.15961838e+00, -4.82772446e+00, -7.49005079e+00,\n",
      "       -7.06336498e+00,  1.06088889e+00, -6.15476847e+00, -2.28895688e+00,\n",
      "       -3.50914741e+00, -9.88825858e-01, -3.84041452e+00, -4.90666962e+00,\n",
      "       -1.68769002e+00, -4.18221998e+00, -3.40157461e+00, -3.20497656e+00,\n",
      "       -2.42023587e+00, -3.34490705e+00, -4.54022408e+00, -2.51192498e+00,\n",
      "       -5.70736074e+00, -4.29069877e-01, -3.15736103e+00, -2.16548967e+00,\n",
      "       -2.49168706e+00, -1.30068254e+00, -2.78908300e+00, -5.14813423e-01,\n",
      "       -1.56024024e-01,  4.56351012e-01, -6.50858223e-01, -2.47001171e+00,\n",
      "       -2.23393297e+00, -1.31368721e+00, -8.41841817e-01, -4.34939802e-01,\n",
      "        6.10659659e-01,  6.31776512e-01,  6.29768848e-01,  6.43004417e-01,\n",
      "        6.66856468e-01,  6.64844394e-01,  6.91794276e-01,  7.08641171e-01,\n",
      "        6.93990588e-01,  7.08724856e-01,  7.58231580e-01,  6.80246174e-01,\n",
      "        1.11292666e-05,  2.74194645e-05,  5.50472250e-05,  1.25642670e-02,\n",
      "        9.52399373e-02,  5.57591803e-02,  2.58463044e-02,  4.34308611e-02,\n",
      "        2.75277589e-02,  3.72569859e-02,  3.03003043e-02,  1.73047110e-02,\n",
      "        5.86872827e-03,  8.60254001e-03,  2.32251231e-02,  8.82430449e-02,\n",
      "        1.23971231e-01,  3.81348990e-02,  1.33314701e-02,  2.70520169e-02,\n",
      "        3.23739685e-02,  1.04268482e-02,  1.99348852e-02,  2.29657665e-02,\n",
      "        1.58798173e-02,  9.09150299e-03,  3.20309438e-02,  4.01367098e-02,\n",
      "        3.72500867e-02,  1.26355141e-02,  4.87277331e-03,  9.88590345e-03,\n",
      "        1.46970730e-02,  2.62184348e-03,  1.79766153e-03,  9.65191750e-04,\n",
      "        1.99380750e-03,  5.91729535e-03,  4.06141719e-03,  6.43572956e-03,\n",
      "        3.02142976e-03,  2.28213612e-03,  2.73152487e-03,  1.53905910e-03,\n",
      "        2.12967396e-03,  2.04644911e-03,  2.70841108e-03,  1.31115932e-02,\n",
      "        9.48763173e-03,  6.12428971e-03,  7.27575365e-03,  7.68335583e-03,\n",
      "        1.14760743e-02,  8.59810412e-03,  3.65248509e-03,  1.67050271e-03,\n",
      "        1.87291927e-03,  2.27807462e-03,  2.16463441e-03,  1.35583035e-03,\n",
      "        2.05081468e-03,  1.64356024e-03,  8.79155996e-04,  1.10404077e-03,\n",
      "        7.92676990e-04,  4.42536868e-04,  7.24996149e-04,  9.94129339e-04,\n",
      "        6.97417301e-04,  4.74786008e-04,  4.96331777e-04,  3.60408361e-04,\n",
      "        3.11677548e-04,  3.43919004e-04,  1.96928770e-04,  2.97766208e-04,\n",
      "        4.26171202e-04,  6.89749082e-04,  8.27606302e-04,  1.20821875e-03,\n",
      "        9.27284360e-04,  9.89547698e-04,  8.76686710e-04,  5.84006833e-04,\n",
      "        4.86923207e-04,  2.28543635e-04,  1.91711981e-04,  2.07277903e-04,\n",
      "        2.27960045e-04,  2.57528358e-04,  2.90928729e-04,  3.38839600e-04,\n",
      "        1.81529394e-04,  1.18137235e-04,  7.82684147e-05,  1.22124009e-04,\n",
      "        1.33177542e-04,  9.02032625e-05,  5.79868283e-05,  5.54818835e-05,\n",
      "        6.74782641e-05,  1.33484617e-04,  1.18931923e-04,  1.01063357e-04,\n",
      "        1.43288955e-04,  2.19632042e-04,  1.65942271e-04,  2.28161211e-04,\n",
      "        2.21550144e-04,  3.00386775e-04,  2.36804044e-04,  3.06310336e-04,\n",
      "        3.37384146e-04,  3.24730325e-04,  1.83541633e-04,  1.56623981e-04,\n",
      "        1.18544012e-04,  1.05125502e-04,  8.01463466e-05,  1.10025932e-04,\n",
      "        1.62305209e-04,  1.32145986e-04,  1.27200939e-04,  1.12387053e-04,\n",
      "        7.78029062e-05,  5.32868944e-05,  4.49146064e-05,  2.97620154e-05]))\n",
      "Features extracted: 180\n"
     ]
    }
   ],
   "source": [
    "#Get the shape of the training and testing datasets\n",
    "# print((x_train.shape[0], x_test.shape[0]))\n",
    "print((x_train[0], x_test[0]))\n",
    "#Get the number of features extracted\n",
    "print(f'Features extracted: {x_train.shape[1]}')"
   ]
  },
  {
   "cell_type": "code",
   "execution_count": 54,
   "metadata": {},
   "outputs": [],
   "source": [
    "# Initialize the Multi Layer Perceptron Classifier\n",
    "model=MLPClassifier(alpha=0.01, batch_size=256, epsilon=1e-08, hidden_layer_sizes=(300,), learning_rate='adaptive', max_iter=500)"
   ]
  },
  {
   "cell_type": "code",
   "execution_count": 55,
   "metadata": {},
   "outputs": [
    {
     "data": {
      "text/plain": [
       "MLPClassifier(alpha=0.01, batch_size=256, hidden_layer_sizes=(300,),\n",
       "              learning_rate='adaptive', max_iter=500)"
      ]
     },
     "execution_count": 55,
     "metadata": {},
     "output_type": "execute_result"
    }
   ],
   "source": [
    "#Train the model\n",
    "model.fit(x_train,y_train)"
   ]
  },
  {
   "cell_type": "code",
   "execution_count": 56,
   "metadata": {},
   "outputs": [],
   "source": [
    "#SAVING THE MODEL\n",
    "import pickle\n",
    "# Save the Modle to file in the current working directory\n",
    "#For any new testing data other than the data in dataset\n",
    "\n",
    "Pkl_Filename = \"Emotion_Voice_Detection_Model.pkl\"  \n",
    "\n",
    "with open(Pkl_Filename, 'wb') as file:  \n",
    "    pickle.dump(model, file)"
   ]
  },
  {
   "cell_type": "code",
   "execution_count": 57,
   "metadata": {},
   "outputs": [
    {
     "data": {
      "text/plain": [
       "MLPClassifier(alpha=0.01, batch_size=256, hidden_layer_sizes=(300,),\n",
       "              learning_rate='adaptive', max_iter=500)"
      ]
     },
     "execution_count": 57,
     "metadata": {},
     "output_type": "execute_result"
    }
   ],
   "source": [
    "# Load the Model back from file\n",
    "with open(Pkl_Filename, 'rb') as file:  \n",
    "    Emotion_Voice_Detection_Model = pickle.load(file)\n",
    "\n",
    "Emotion_Voice_Detection_Model"
   ]
  },
  {
   "cell_type": "code",
   "execution_count": 58,
   "metadata": {},
   "outputs": [
    {
     "data": {
      "text/plain": [
       "array(['calm', 'fearful', 'disgust', 'calm', 'disgust', 'fearful', 'calm',\n",
       "       'disgust', 'disgust', 'calm', 'disgust', 'disgust', 'disgust',\n",
       "       'calm', 'happy', 'disgust', 'disgust', 'happy', 'disgust',\n",
       "       'fearful', 'disgust', 'disgust', 'happy', 'disgust', 'fearful',\n",
       "       'disgust', 'fearful', 'calm', 'happy', 'happy', 'disgust',\n",
       "       'disgust', 'disgust', 'disgust', 'calm', 'disgust', 'disgust',\n",
       "       'happy', 'fearful', 'disgust', 'happy', 'disgust', 'calm', 'happy',\n",
       "       'disgust', 'disgust', 'calm', 'happy', 'calm', 'disgust', 'happy',\n",
       "       'happy', 'disgust', 'disgust', 'happy', 'disgust', 'disgust',\n",
       "       'disgust', 'calm', 'disgust', 'happy', 'fearful', 'calm',\n",
       "       'fearful', 'fearful', 'disgust', 'disgust', 'calm', 'disgust',\n",
       "       'happy', 'happy', 'calm', 'happy', 'disgust', 'disgust', 'disgust',\n",
       "       'calm', 'calm', 'disgust', 'disgust', 'disgust', 'fearful',\n",
       "       'fearful', 'disgust', 'disgust', 'disgust', 'calm', 'calm',\n",
       "       'disgust', 'calm', 'disgust', 'happy', 'happy', 'fearful', 'calm',\n",
       "       'calm', 'fearful', 'disgust', 'disgust', 'disgust', 'disgust',\n",
       "       'disgust', 'fearful', 'fearful', 'disgust', 'happy', 'happy',\n",
       "       'disgust', 'disgust', 'calm', 'disgust', 'disgust', 'disgust',\n",
       "       'fearful', 'calm', 'disgust', 'happy', 'calm', 'disgust',\n",
       "       'disgust', 'disgust', 'happy', 'disgust', 'disgust', 'calm',\n",
       "       'fearful', 'disgust', 'disgust', 'calm', 'fearful', 'fearful',\n",
       "       'calm', 'fearful', 'disgust', 'disgust', 'disgust', 'calm',\n",
       "       'disgust', 'happy', 'fearful', 'disgust', 'happy', 'calm',\n",
       "       'disgust', 'disgust', 'fearful', 'happy', 'happy', 'calm', 'calm',\n",
       "       'disgust', 'disgust', 'disgust', 'calm', 'happy', 'disgust',\n",
       "       'disgust', 'disgust', 'calm', 'disgust', 'fearful', 'happy',\n",
       "       'disgust', 'disgust', 'disgust', 'happy', 'disgust', 'disgust',\n",
       "       'calm', 'disgust', 'calm', 'disgust', 'disgust', 'fearful',\n",
       "       'disgust', 'happy', 'calm', 'fearful', 'fearful', 'fearful',\n",
       "       'fearful', 'disgust', 'fearful', 'fearful', 'happy', 'fearful',\n",
       "       'fearful', 'disgust', 'disgust', 'disgust', 'disgust', 'disgust'],\n",
       "      dtype='<U7')"
      ]
     },
     "execution_count": 58,
     "metadata": {},
     "output_type": "execute_result"
    }
   ],
   "source": [
    "#predicting :\n",
    "y_pred=Emotion_Voice_Detection_Model.predict(x_test)\n",
    "y_pred"
   ]
  },
  {
   "cell_type": "code",
   "execution_count": 59,
   "metadata": {},
   "outputs": [
    {
     "name": "stdout",
     "output_type": "stream",
     "text": [
      "    predictions                file_names\n",
      "0          calm  03-01-02-01-02-02-23.wav\n",
      "1       fearful  03-01-06-01-02-02-04.wav\n",
      "2       disgust  03-01-07-02-01-02-07.wav\n",
      "3          calm  03-01-07-02-02-02-21.wav\n",
      "4       disgust  03-01-03-01-02-02-07.wav\n",
      "..          ...                       ...\n",
      "187     disgust  03-01-02-02-01-02-07.wav\n",
      "188     disgust  03-01-07-01-02-02-05.wav\n",
      "189     disgust  03-01-03-01-01-01-24.wav\n",
      "190     disgust  03-01-02-02-02-01-13.wav\n",
      "191     disgust  03-01-07-01-02-01-19.wav\n",
      "\n",
      "[192 rows x 2 columns]\n"
     ]
    }
   ],
   "source": [
    "#Store the Prediction probabilities into CSV file \n",
    "import numpy as np\n",
    "import pandas as pd\n",
    "y_pred1 = pd.DataFrame(y_pred, columns=['predictions'])\n",
    "y_pred1['file_names'] = test_filename\n",
    "print(y_pred1)\n",
    "y_pred1.to_csv('predictionfinal.csv')"
   ]
  },
  {
   "cell_type": "code",
   "execution_count": 73,
   "metadata": {},
   "outputs": [
    {
     "name": "stdout",
     "output_type": "stream",
     "text": [
      "* recording\n",
      "* done recording\n"
     ]
    }
   ],
   "source": [
    "#RECORDED USING MICROPHONE:\n",
    "import pyaudio\n",
    "import wave\n",
    "\n",
    "CHUNK = 1024 \n",
    "FORMAT = pyaudio.paInt16 #paInt8\n",
    "CHANNELS = 1\n",
    "RATE = 44100 #sample rate\n",
    "RECORD_SECONDS = 4\n",
    "WAVE_OUTPUT_FILENAME = \"output10.wav\"\n",
    "\n",
    "p = pyaudio.PyAudio()\n",
    "\n",
    "stream = p.open(format=FORMAT,\n",
    "                channels=CHANNELS,\n",
    "                rate=RATE,\n",
    "                input=True,\n",
    "                frames_per_buffer=CHUNK) #buffer\n",
    "\n",
    "print(\"* recording\")\n",
    "frames = []\n",
    "\n",
    "for i in range(0, int(RATE / CHUNK * RECORD_SECONDS)):\n",
    "    data = stream.read(CHUNK)\n",
    "    frames.append(data) # 2 bytes(16 bits) per channel\n",
    "\n",
    "print(\"* done recording\")\n",
    "\n",
    "stream.stop_stream()\n",
    "stream.close()\n",
    "p.terminate()\n",
    "\n",
    "wf = wave.open(WAVE_OUTPUT_FILENAME, 'wb')\n",
    "wf.setnchannels(CHANNELS)\n",
    "wf.setsampwidth(p.get_sample_size(FORMAT))\n",
    "wf.setframerate(RATE)\n",
    "wf.writeframes(b''.join(frames))\n",
    "wf.close()"
   ]
  },
  {
   "cell_type": "code",
   "execution_count": 63,
   "metadata": {},
   "outputs": [
    {
     "data": {
      "text/plain": [
       "<matplotlib.collections.PolyCollection at 0x7ff4b119bca0>"
      ]
     },
     "execution_count": 63,
     "metadata": {},
     "output_type": "execute_result"
    },
    {
     "data": {
      "image/png": "[encoded data removed]",
      "text/plain": [
       "<Figure size 1080x360 with 1 Axes>"
      ]
     },
     "metadata": {
      "needs_background": "light"
     },
     "output_type": "display_data"
    }
   ],
   "source": [
    "#The file 'output10.wav' in the next cell is the file that was recorded live using the code :\n",
    "data, sampling_rate = librosa.load('datasets.csv/Actor_02/03-01-01-01-01-02-02.wav')\n",
    "%matplotlib inline\n",
    "import os\n",
    "import pandas as pd\n",
    "import librosa.display\n",
    "import glob \n",
    "\n",
    "plt.figure(figsize=(15, 5))\n",
    "librosa.display.waveplot(data, sr=sampling_rate)"
   ]
  },
  {
   "cell_type": "code",
   "execution_count": 74,
   "metadata": {},
   "outputs": [
    {
     "ename": "ValueError",
     "evalue": "too many values to unpack (expected 2)",
     "output_type": "error",
     "traceback": [
      "\u001b[0;31m---------------------------------------------------------------------------\u001b[0m",
      "\u001b[0;31mValueError\u001b[0m                                Traceback (most recent call last)",
      "\u001b[0;32m/var/folders/cf/78m2pngj3kqgdk88fltk67r80000gn/T/ipykernel_9678/2277972434.py\u001b[0m in \u001b[0;36m<module>\u001b[0;34m\u001b[0m\n\u001b[1;32m      4\u001b[0m \u001b[0;31m# data = np.array(data)\u001b[0m\u001b[0;34m\u001b[0m\u001b[0;34m\u001b[0m\u001b[0m\n\u001b[1;32m      5\u001b[0m \u001b[0mans\u001b[0m \u001b[0;34m=\u001b[0m\u001b[0;34m[\u001b[0m\u001b[0;34m]\u001b[0m\u001b[0;34m\u001b[0m\u001b[0;34m\u001b[0m\u001b[0m\n\u001b[0;32m----> 6\u001b[0;31m \u001b[0mnew_feature\u001b[0m \u001b[0;34m,\u001b[0m\u001b[0mlabels\u001b[0m  \u001b[0;34m=\u001b[0m \u001b[0mextract_feature\u001b[0m\u001b[0;34m(\u001b[0m\u001b[0mfile\u001b[0m\u001b[0;34m,\u001b[0m \u001b[0mmfcc\u001b[0m\u001b[0;34m=\u001b[0m\u001b[0;32mTrue\u001b[0m\u001b[0;34m,\u001b[0m \u001b[0mchroma\u001b[0m\u001b[0;34m=\u001b[0m\u001b[0;32mTrue\u001b[0m\u001b[0;34m,\u001b[0m \u001b[0mmel\u001b[0m\u001b[0;34m=\u001b[0m\u001b[0;32mTrue\u001b[0m\u001b[0;34m)\u001b[0m\u001b[0;34m\u001b[0m\u001b[0;34m\u001b[0m\u001b[0m\n\u001b[0m\u001b[1;32m      7\u001b[0m \u001b[0mans\u001b[0m\u001b[0;34m.\u001b[0m\u001b[0mappend\u001b[0m\u001b[0;34m(\u001b[0m\u001b[0mnew_feature\u001b[0m\u001b[0;34m)\u001b[0m\u001b[0;34m\u001b[0m\u001b[0;34m\u001b[0m\u001b[0m\n\u001b[1;32m      8\u001b[0m \u001b[0mans\u001b[0m \u001b[0;34m=\u001b[0m \u001b[0mnp\u001b[0m\u001b[0;34m.\u001b[0m\u001b[0marray\u001b[0m\u001b[0;34m(\u001b[0m\u001b[0mans\u001b[0m\u001b[0;34m)\u001b[0m\u001b[0;34m\u001b[0m\u001b[0;34m\u001b[0m\u001b[0m\n",
      "\u001b[0;31mValueError\u001b[0m: too many values to unpack (expected 2)"
     ]
    }
   ],
   "source": [
    "## Appying extract_feature function on random file and then loading model to predict the result \n",
    "file = 'output10.wav'\n",
    "# data , sr = librosa.load(file)\n",
    "# data = np.array(data)\n",
    "ans =[]\n",
    "new_feature ,labels  = extract_feature(file, mfcc=True, chroma=True, mel=True)\n",
    "ans.append(new_feature)\n",
    "ans = np.array(ans)\n",
    "# data.shape\n",
    "\n",
    "Emotion_Voice_Detection_Model.predict([ans])\n",
    "\n"
   ]
  },
  {
   "cell_type": "code",
   "execution_count": 70,
   "metadata": {},
   "outputs": [
    {
     "name": "stdout",
     "output_type": "stream",
     "text": [
      "Accuracy: 67.19%\n"
     ]
    }
   ],
   "source": [
    "#Calculate the accuracy of our model\n",
    "accuracy=accuracy_score(y_true=y_test, y_pred=y_pred)\n",
    "\n",
    "#Print the accuracy\n",
    "print(\"Accuracy: {:.2f}%\".format(accuracy*100))"
   ]
  },
  {
   "cell_type": "code",
   "execution_count": null,
   "metadata": {},
   "outputs": [],
   "source": []
  },
  {
   "cell_type": "code",
   "execution_count": null,
   "metadata": {},
   "outputs": [],
   "source": []
  },
  {
   "cell_type": "code",
   "execution_count": null,
   "metadata": {},
   "outputs": [],
   "source": []
  },
  {
   "cell_type": "code",
   "execution_count": 32,
   "metadata": {},
   "outputs": [],
   "source": [
    "#Load the data and extract features for each sound file\n",
    "def load_data(test_size=0.2):\n",
    "    x,y=[],[]\n",
    "    for file in glob.glob(\"/Users/saikirananugam/Desktop/Capstone/datasets.csv/Actor_12*//*.wav\"):\n",
    "        file_name=os.path.basename(file)\n",
    "        emotion=emotions[file_name.split(\"-\")[2]]\n",
    "        if emotion not in observed_emotions:\n",
    "            continue\n",
    "        feature=extract_feature(file, mfcc=True, chroma=True, mel=True)\n",
    "        x.append(feature)\n",
    "        y.append(emotion)\n",
    "    return train_test_split(np.array(x), y, test_size=test_size, random_state=9)"
   ]
  },
  {
   "cell_type": "code",
   "execution_count": null,
   "metadata": {},
   "outputs": [],
   "source": []
  },
  {
   "cell_type": "code",
   "execution_count": 75,
   "metadata": {},
   "outputs": [],
   "source": [
    "#Split the dataset\n",
    "x_train,x_test,y_train,y_test=load_data(test_size=0.2)"
   ]
  },
  {
   "cell_type": "code",
   "execution_count": 76,
   "metadata": {},
   "outputs": [
    {
     "name": "stdout",
     "output_type": "stream",
     "text": [
      "(614, 154)\n"
     ]
    }
   ],
   "source": [
    "#Get the shape of the training and testing datasets\n",
    "print((x_train.shape[0], x_test.shape[0]))"
   ]
  },
  {
   "cell_type": "code",
   "execution_count": 77,
   "metadata": {},
   "outputs": [],
   "source": [
    "#Predict for the test set\n",
    "y_pred=model.predict(x_test)"
   ]
  },
  {
   "cell_type": "code",
   "execution_count": 78,
   "metadata": {},
   "outputs": [],
   "source": [
    "from sklearn.metrics import accuracy_score, f1_score"
   ]
  },
  {
   "cell_type": "code",
   "execution_count": null,
   "metadata": {},
   "outputs": [],
   "source": []
  },
  {
   "cell_type": "code",
   "execution_count": 79,
   "metadata": {},
   "outputs": [
    {
     "ename": "ValueError",
     "evalue": "Classification metrics can't handle a mix of multiclass-multioutput and multiclass targets",
     "output_type": "error",
     "traceback": [
      "\u001b[0;31m---------------------------------------------------------------------------\u001b[0m",
      "\u001b[0;31mValueError\u001b[0m                                Traceback (most recent call last)",
      "\u001b[0;32m/var/folders/cf/78m2pngj3kqgdk88fltk67r80000gn/T/ipykernel_9678/1290982388.py\u001b[0m in \u001b[0;36m<module>\u001b[0;34m\u001b[0m\n\u001b[0;32m----> 1\u001b[0;31m \u001b[0mf1_score\u001b[0m\u001b[0;34m(\u001b[0m\u001b[0my_test\u001b[0m\u001b[0;34m,\u001b[0m \u001b[0my_pred\u001b[0m\u001b[0;34m,\u001b[0m\u001b[0maverage\u001b[0m\u001b[0;34m=\u001b[0m\u001b[0;32mNone\u001b[0m\u001b[0;34m)\u001b[0m\u001b[0;34m\u001b[0m\u001b[0;34m\u001b[0m\u001b[0m\n\u001b[0m",
      "\u001b[0;32m/opt/anaconda3/lib/python3.9/site-packages/sklearn/utils/validation.py\u001b[0m in \u001b[0;36minner_f\u001b[0;34m(*args, **kwargs)\u001b[0m\n\u001b[1;32m     61\u001b[0m             \u001b[0mextra_args\u001b[0m \u001b[0;34m=\u001b[0m \u001b[0mlen\u001b[0m\u001b[0;34m(\u001b[0m\u001b[0margs\u001b[0m\u001b[0;34m)\u001b[0m \u001b[0;34m-\u001b[0m \u001b[0mlen\u001b[0m\u001b[0;34m(\u001b[0m\u001b[0mall_args\u001b[0m\u001b[0;34m)\u001b[0m\u001b[0;34m\u001b[0m\u001b[0;34m\u001b[0m\u001b[0m\n\u001b[1;32m     62\u001b[0m             \u001b[0;32mif\u001b[0m \u001b[0mextra_args\u001b[0m \u001b[0;34m<=\u001b[0m \u001b[0;36m0\u001b[0m\u001b[0;34m:\u001b[0m\u001b[0;34m\u001b[0m\u001b[0;34m\u001b[0m\u001b[0m\n\u001b[0;32m---> 63\u001b[0;31m                 \u001b[0;32mreturn\u001b[0m \u001b[0mf\u001b[0m\u001b[0;34m(\u001b[0m\u001b[0;34m*\u001b[0m\u001b[0margs\u001b[0m\u001b[0;34m,\u001b[0m \u001b[0;34m**\u001b[0m\u001b[0mkwargs\u001b[0m\u001b[0;34m)\u001b[0m\u001b[0;34m\u001b[0m\u001b[0;34m\u001b[0m\u001b[0m\n\u001b[0m\u001b[1;32m     64\u001b[0m \u001b[0;34m\u001b[0m\u001b[0m\n\u001b[1;32m     65\u001b[0m             \u001b[0;31m# extra_args > 0\u001b[0m\u001b[0;34m\u001b[0m\u001b[0;34m\u001b[0m\u001b[0m\n",
      "\u001b[0;32m/opt/anaconda3/lib/python3.9/site-packages/sklearn/metrics/_classification.py\u001b[0m in \u001b[0;36mf1_score\u001b[0;34m(y_true, y_pred, labels, pos_label, average, sample_weight, zero_division)\u001b[0m\n\u001b[1;32m   1069\u001b[0m     \u001b[0mmodified\u001b[0m \u001b[0;32mwith\u001b[0m\u001b[0;31m \u001b[0m\u001b[0;31m`\u001b[0m\u001b[0;31m`\u001b[0m\u001b[0mzero_division\u001b[0m\u001b[0;31m`\u001b[0m\u001b[0;31m`\u001b[0m\u001b[0;34m.\u001b[0m\u001b[0;34m\u001b[0m\u001b[0;34m\u001b[0m\u001b[0m\n\u001b[1;32m   1070\u001b[0m     \"\"\"\n\u001b[0;32m-> 1071\u001b[0;31m     return fbeta_score(y_true, y_pred, beta=1, labels=labels,\n\u001b[0m\u001b[1;32m   1072\u001b[0m                        \u001b[0mpos_label\u001b[0m\u001b[0;34m=\u001b[0m\u001b[0mpos_label\u001b[0m\u001b[0;34m,\u001b[0m \u001b[0maverage\u001b[0m\u001b[0;34m=\u001b[0m\u001b[0maverage\u001b[0m\u001b[0;34m,\u001b[0m\u001b[0;34m\u001b[0m\u001b[0;34m\u001b[0m\u001b[0m\n\u001b[1;32m   1073\u001b[0m                        \u001b[0msample_weight\u001b[0m\u001b[0;34m=\u001b[0m\u001b[0msample_weight\u001b[0m\u001b[0;34m,\u001b[0m\u001b[0;34m\u001b[0m\u001b[0;34m\u001b[0m\u001b[0m\n",
      "\u001b[0;32m/opt/anaconda3/lib/python3.9/site-packages/sklearn/utils/validation.py\u001b[0m in \u001b[0;36minner_f\u001b[0;34m(*args, **kwargs)\u001b[0m\n\u001b[1;32m     61\u001b[0m             \u001b[0mextra_args\u001b[0m \u001b[0;34m=\u001b[0m \u001b[0mlen\u001b[0m\u001b[0;34m(\u001b[0m\u001b[0margs\u001b[0m\u001b[0;34m)\u001b[0m \u001b[0;34m-\u001b[0m \u001b[0mlen\u001b[0m\u001b[0;34m(\u001b[0m\u001b[0mall_args\u001b[0m\u001b[0;34m)\u001b[0m\u001b[0;34m\u001b[0m\u001b[0;34m\u001b[0m\u001b[0m\n\u001b[1;32m     62\u001b[0m             \u001b[0;32mif\u001b[0m \u001b[0mextra_args\u001b[0m \u001b[0;34m<=\u001b[0m \u001b[0;36m0\u001b[0m\u001b[0;34m:\u001b[0m\u001b[0;34m\u001b[0m\u001b[0;34m\u001b[0m\u001b[0m\n\u001b[0;32m---> 63\u001b[0;31m                 \u001b[0;32mreturn\u001b[0m \u001b[0mf\u001b[0m\u001b[0;34m(\u001b[0m\u001b[0;34m*\u001b[0m\u001b[0margs\u001b[0m\u001b[0;34m,\u001b[0m \u001b[0;34m**\u001b[0m\u001b[0mkwargs\u001b[0m\u001b[0;34m)\u001b[0m\u001b[0;34m\u001b[0m\u001b[0;34m\u001b[0m\u001b[0m\n\u001b[0m\u001b[1;32m     64\u001b[0m \u001b[0;34m\u001b[0m\u001b[0m\n\u001b[1;32m     65\u001b[0m             \u001b[0;31m# extra_args > 0\u001b[0m\u001b[0;34m\u001b[0m\u001b[0;34m\u001b[0m\u001b[0m\n",
      "\u001b[0;32m/opt/anaconda3/lib/python3.9/site-packages/sklearn/metrics/_classification.py\u001b[0m in \u001b[0;36mfbeta_score\u001b[0;34m(y_true, y_pred, beta, labels, pos_label, average, sample_weight, zero_division)\u001b[0m\n\u001b[1;32m   1193\u001b[0m     \"\"\"\n\u001b[1;32m   1194\u001b[0m \u001b[0;34m\u001b[0m\u001b[0m\n\u001b[0;32m-> 1195\u001b[0;31m     _, _, f, _ = precision_recall_fscore_support(y_true, y_pred,\n\u001b[0m\u001b[1;32m   1196\u001b[0m                                                  \u001b[0mbeta\u001b[0m\u001b[0;34m=\u001b[0m\u001b[0mbeta\u001b[0m\u001b[0;34m,\u001b[0m\u001b[0;34m\u001b[0m\u001b[0;34m\u001b[0m\u001b[0m\n\u001b[1;32m   1197\u001b[0m                                                  \u001b[0mlabels\u001b[0m\u001b[0;34m=\u001b[0m\u001b[0mlabels\u001b[0m\u001b[0;34m,\u001b[0m\u001b[0;34m\u001b[0m\u001b[0;34m\u001b[0m\u001b[0m\n",
      "\u001b[0;32m/opt/anaconda3/lib/python3.9/site-packages/sklearn/utils/validation.py\u001b[0m in \u001b[0;36minner_f\u001b[0;34m(*args, **kwargs)\u001b[0m\n\u001b[1;32m     61\u001b[0m             \u001b[0mextra_args\u001b[0m \u001b[0;34m=\u001b[0m \u001b[0mlen\u001b[0m\u001b[0;34m(\u001b[0m\u001b[0margs\u001b[0m\u001b[0;34m)\u001b[0m \u001b[0;34m-\u001b[0m \u001b[0mlen\u001b[0m\u001b[0;34m(\u001b[0m\u001b[0mall_args\u001b[0m\u001b[0;34m)\u001b[0m\u001b[0;34m\u001b[0m\u001b[0;34m\u001b[0m\u001b[0m\n\u001b[1;32m     62\u001b[0m             \u001b[0;32mif\u001b[0m \u001b[0mextra_args\u001b[0m \u001b[0;34m<=\u001b[0m \u001b[0;36m0\u001b[0m\u001b[0;34m:\u001b[0m\u001b[0;34m\u001b[0m\u001b[0;34m\u001b[0m\u001b[0m\n\u001b[0;32m---> 63\u001b[0;31m                 \u001b[0;32mreturn\u001b[0m \u001b[0mf\u001b[0m\u001b[0;34m(\u001b[0m\u001b[0;34m*\u001b[0m\u001b[0margs\u001b[0m\u001b[0;34m,\u001b[0m \u001b[0;34m**\u001b[0m\u001b[0mkwargs\u001b[0m\u001b[0;34m)\u001b[0m\u001b[0;34m\u001b[0m\u001b[0;34m\u001b[0m\u001b[0m\n\u001b[0m\u001b[1;32m     64\u001b[0m \u001b[0;34m\u001b[0m\u001b[0m\n\u001b[1;32m     65\u001b[0m             \u001b[0;31m# extra_args > 0\u001b[0m\u001b[0;34m\u001b[0m\u001b[0;34m\u001b[0m\u001b[0m\n",
      "\u001b[0;32m/opt/anaconda3/lib/python3.9/site-packages/sklearn/metrics/_classification.py\u001b[0m in \u001b[0;36mprecision_recall_fscore_support\u001b[0;34m(y_true, y_pred, beta, labels, pos_label, average, warn_for, sample_weight, zero_division)\u001b[0m\n\u001b[1;32m   1462\u001b[0m     \u001b[0;32mif\u001b[0m \u001b[0mbeta\u001b[0m \u001b[0;34m<\u001b[0m \u001b[0;36m0\u001b[0m\u001b[0;34m:\u001b[0m\u001b[0;34m\u001b[0m\u001b[0;34m\u001b[0m\u001b[0m\n\u001b[1;32m   1463\u001b[0m         \u001b[0;32mraise\u001b[0m \u001b[0mValueError\u001b[0m\u001b[0;34m(\u001b[0m\u001b[0;34m\"beta should be >=0 in the F-beta score\"\u001b[0m\u001b[0;34m)\u001b[0m\u001b[0;34m\u001b[0m\u001b[0;34m\u001b[0m\u001b[0m\n\u001b[0;32m-> 1464\u001b[0;31m     labels = _check_set_wise_labels(y_true, y_pred, average, labels,\n\u001b[0m\u001b[1;32m   1465\u001b[0m                                     pos_label)\n\u001b[1;32m   1466\u001b[0m \u001b[0;34m\u001b[0m\u001b[0m\n",
      "\u001b[0;32m/opt/anaconda3/lib/python3.9/site-packages/sklearn/metrics/_classification.py\u001b[0m in \u001b[0;36m_check_set_wise_labels\u001b[0;34m(y_true, y_pred, average, labels, pos_label)\u001b[0m\n\u001b[1;32m   1275\u001b[0m                          str(average_options))\n\u001b[1;32m   1276\u001b[0m \u001b[0;34m\u001b[0m\u001b[0m\n\u001b[0;32m-> 1277\u001b[0;31m     \u001b[0my_type\u001b[0m\u001b[0;34m,\u001b[0m \u001b[0my_true\u001b[0m\u001b[0;34m,\u001b[0m \u001b[0my_pred\u001b[0m \u001b[0;34m=\u001b[0m \u001b[0m_check_targets\u001b[0m\u001b[0;34m(\u001b[0m\u001b[0my_true\u001b[0m\u001b[0;34m,\u001b[0m \u001b[0my_pred\u001b[0m\u001b[0;34m)\u001b[0m\u001b[0;34m\u001b[0m\u001b[0;34m\u001b[0m\u001b[0m\n\u001b[0m\u001b[1;32m   1278\u001b[0m     \u001b[0;31m# Convert to Python primitive type to avoid NumPy type / Python str\u001b[0m\u001b[0;34m\u001b[0m\u001b[0;34m\u001b[0m\u001b[0m\n\u001b[1;32m   1279\u001b[0m     \u001b[0;31m# comparison. See https://github.com/numpy/numpy/issues/6784\u001b[0m\u001b[0;34m\u001b[0m\u001b[0;34m\u001b[0m\u001b[0m\n",
      "\u001b[0;32m/opt/anaconda3/lib/python3.9/site-packages/sklearn/metrics/_classification.py\u001b[0m in \u001b[0;36m_check_targets\u001b[0;34m(y_true, y_pred)\u001b[0m\n\u001b[1;32m     90\u001b[0m \u001b[0;34m\u001b[0m\u001b[0m\n\u001b[1;32m     91\u001b[0m     \u001b[0;32mif\u001b[0m \u001b[0mlen\u001b[0m\u001b[0;34m(\u001b[0m\u001b[0my_type\u001b[0m\u001b[0;34m)\u001b[0m \u001b[0;34m>\u001b[0m \u001b[0;36m1\u001b[0m\u001b[0;34m:\u001b[0m\u001b[0;34m\u001b[0m\u001b[0;34m\u001b[0m\u001b[0m\n\u001b[0;32m---> 92\u001b[0;31m         raise ValueError(\"Classification metrics can't handle a mix of {0} \"\n\u001b[0m\u001b[1;32m     93\u001b[0m                          \"and {1} targets\".format(type_true, type_pred))\n\u001b[1;32m     94\u001b[0m \u001b[0;34m\u001b[0m\u001b[0m\n",
      "\u001b[0;31mValueError\u001b[0m: Classification metrics can't handle a mix of multiclass-multioutput and multiclass targets"
     ]
    }
   ],
   "source": [
    "f1_score(y_test, y_pred,average=None)"
   ]
  },
  {
   "cell_type": "code",
   "execution_count": 80,
   "metadata": {},
   "outputs": [
    {
     "data": {
      "text/html": [
       "<div>\n",
       "<style scoped>\n",
       "    .dataframe tbody tr th:only-of-type {\n",
       "        vertical-align: middle;\n",
       "    }\n",
       "\n",
       "    .dataframe tbody tr th {\n",
       "        vertical-align: top;\n",
       "    }\n",
       "\n",
       "    .dataframe thead th {\n",
       "        text-align: right;\n",
       "    }\n",
       "</style>\n",
       "<table border=\"1\" class=\"dataframe\">\n",
       "  <thead>\n",
       "    <tr style=\"text-align: right;\">\n",
       "      <th></th>\n",
       "      <th>Actual</th>\n",
       "      <th>Predicted</th>\n",
       "    </tr>\n",
       "  </thead>\n",
       "  <tbody>\n",
       "    <tr>\n",
       "      <th>0</th>\n",
       "      <td>[calm, 03-01-02-01-02-02-23.wav]</td>\n",
       "      <td>calm</td>\n",
       "    </tr>\n",
       "    <tr>\n",
       "      <th>1</th>\n",
       "      <td>[fearful, 03-01-06-01-02-02-04.wav]</td>\n",
       "      <td>fearful</td>\n",
       "    </tr>\n",
       "    <tr>\n",
       "      <th>2</th>\n",
       "      <td>[disgust, 03-01-07-02-01-02-07.wav]</td>\n",
       "      <td>disgust</td>\n",
       "    </tr>\n",
       "    <tr>\n",
       "      <th>3</th>\n",
       "      <td>[disgust, 03-01-07-02-02-02-21.wav]</td>\n",
       "      <td>calm</td>\n",
       "    </tr>\n",
       "    <tr>\n",
       "      <th>4</th>\n",
       "      <td>[happy, 03-01-03-01-02-02-07.wav]</td>\n",
       "      <td>disgust</td>\n",
       "    </tr>\n",
       "    <tr>\n",
       "      <th>5</th>\n",
       "      <td>[fearful, 03-01-06-02-01-02-12.wav]</td>\n",
       "      <td>fearful</td>\n",
       "    </tr>\n",
       "    <tr>\n",
       "      <th>6</th>\n",
       "      <td>[calm, 03-01-02-01-01-02-13.wav]</td>\n",
       "      <td>calm</td>\n",
       "    </tr>\n",
       "    <tr>\n",
       "      <th>7</th>\n",
       "      <td>[happy, 03-01-03-01-01-01-18.wav]</td>\n",
       "      <td>disgust</td>\n",
       "    </tr>\n",
       "    <tr>\n",
       "      <th>8</th>\n",
       "      <td>[disgust, 03-01-07-01-02-01-12.wav]</td>\n",
       "      <td>disgust</td>\n",
       "    </tr>\n",
       "    <tr>\n",
       "      <th>9</th>\n",
       "      <td>[calm, 03-01-02-02-01-02-24.wav]</td>\n",
       "      <td>calm</td>\n",
       "    </tr>\n",
       "    <tr>\n",
       "      <th>10</th>\n",
       "      <td>[happy, 03-01-03-01-01-01-19.wav]</td>\n",
       "      <td>disgust</td>\n",
       "    </tr>\n",
       "    <tr>\n",
       "      <th>11</th>\n",
       "      <td>[disgust, 03-01-07-01-01-01-23.wav]</td>\n",
       "      <td>disgust</td>\n",
       "    </tr>\n",
       "    <tr>\n",
       "      <th>12</th>\n",
       "      <td>[disgust, 03-01-07-02-01-02-14.wav]</td>\n",
       "      <td>disgust</td>\n",
       "    </tr>\n",
       "    <tr>\n",
       "      <th>13</th>\n",
       "      <td>[calm, 03-01-02-02-02-02-12.wav]</td>\n",
       "      <td>calm</td>\n",
       "    </tr>\n",
       "    <tr>\n",
       "      <th>14</th>\n",
       "      <td>[happy, 03-01-03-01-02-02-15.wav]</td>\n",
       "      <td>happy</td>\n",
       "    </tr>\n",
       "    <tr>\n",
       "      <th>15</th>\n",
       "      <td>[disgust, 03-01-07-01-01-02-02.wav]</td>\n",
       "      <td>disgust</td>\n",
       "    </tr>\n",
       "    <tr>\n",
       "      <th>16</th>\n",
       "      <td>[fearful, 03-01-06-01-02-02-11.wav]</td>\n",
       "      <td>disgust</td>\n",
       "    </tr>\n",
       "    <tr>\n",
       "      <th>17</th>\n",
       "      <td>[happy, 03-01-03-02-01-01-13.wav]</td>\n",
       "      <td>happy</td>\n",
       "    </tr>\n",
       "    <tr>\n",
       "      <th>18</th>\n",
       "      <td>[disgust, 03-01-07-02-01-01-05.wav]</td>\n",
       "      <td>disgust</td>\n",
       "    </tr>\n",
       "    <tr>\n",
       "      <th>19</th>\n",
       "      <td>[happy, 03-01-03-01-01-02-18.wav]</td>\n",
       "      <td>fearful</td>\n",
       "    </tr>\n",
       "  </tbody>\n",
       "</table>\n",
       "</div>"
      ],
      "text/plain": [
       "                                 Actual Predicted\n",
       "0      [calm, 03-01-02-01-02-02-23.wav]      calm\n",
       "1   [fearful, 03-01-06-01-02-02-04.wav]   fearful\n",
       "2   [disgust, 03-01-07-02-01-02-07.wav]   disgust\n",
       "3   [disgust, 03-01-07-02-02-02-21.wav]      calm\n",
       "4     [happy, 03-01-03-01-02-02-07.wav]   disgust\n",
       "5   [fearful, 03-01-06-02-01-02-12.wav]   fearful\n",
       "6      [calm, 03-01-02-01-01-02-13.wav]      calm\n",
       "7     [happy, 03-01-03-01-01-01-18.wav]   disgust\n",
       "8   [disgust, 03-01-07-01-02-01-12.wav]   disgust\n",
       "9      [calm, 03-01-02-02-01-02-24.wav]      calm\n",
       "10    [happy, 03-01-03-01-01-01-19.wav]   disgust\n",
       "11  [disgust, 03-01-07-01-01-01-23.wav]   disgust\n",
       "12  [disgust, 03-01-07-02-01-02-14.wav]   disgust\n",
       "13     [calm, 03-01-02-02-02-02-12.wav]      calm\n",
       "14    [happy, 03-01-03-01-02-02-15.wav]     happy\n",
       "15  [disgust, 03-01-07-01-01-02-02.wav]   disgust\n",
       "16  [fearful, 03-01-06-01-02-02-11.wav]   disgust\n",
       "17    [happy, 03-01-03-02-01-01-13.wav]     happy\n",
       "18  [disgust, 03-01-07-02-01-01-05.wav]   disgust\n",
       "19    [happy, 03-01-03-01-01-02-18.wav]   fearful"
      ]
     },
     "execution_count": 80,
     "metadata": {},
     "output_type": "execute_result"
    }
   ],
   "source": [
    "import pandas as pd\n",
    "df=pd.DataFrame({'Actual': y_test, 'Predicted':y_pred})\n",
    "df.head(20)"
   ]
  },
  {
   "cell_type": "code",
   "execution_count": 81,
   "metadata": {},
   "outputs": [],
   "source": [
    "import pickle\n",
    "# Writing different model files to file\n",
    "with open( 'modelForPrediction1.sav', 'wb') as f:\n",
    "    pickle.dump(model,f)"
   ]
  },
  {
   "cell_type": "code",
   "execution_count": 82,
   "metadata": {},
   "outputs": [
    {
     "data": {
      "text/plain": [
       "'disgust'"
      ]
     },
     "execution_count": 82,
     "metadata": {},
     "output_type": "execute_result"
    }
   ],
   "source": [
    "filename = 'modelForPrediction1.sav'\n",
    "loaded_model = pickle.load(open(filename, 'rb')) # loading the model file from the storage\n",
    "\n",
    "feature=extract_feature(\"/Users/saikirananugam/Desktop/Capstone/datasets.csv/Actor_04/03-01-01-01-01-01-04.wav\", mfcc=True, chroma=True, mel=True)\n",
    "\n",
    "feature=feature.reshape(1,-1)\n",
    "\n",
    "prediction=loaded_model.predict(feature)\n",
    "prediction[0]"
   ]
  },
  {
   "cell_type": "code",
   "execution_count": 83,
   "metadata": {},
   "outputs": [
    {
     "data": {
      "text/plain": [
       "'disgust'"
      ]
     },
     "execution_count": 83,
     "metadata": {},
     "output_type": "execute_result"
    }
   ],
   "source": [
    "prediction[0]"
   ]
  },
  {
   "cell_type": "code",
   "execution_count": 84,
   "metadata": {},
   "outputs": [],
   "source": [
    "import pickle\n",
    "# Writing different model files to file\n",
    "with open( 'modelForPrediction1.pkl', 'wb') as f:\n",
    "    pickle.dump(model,f)"
   ]
  },
  {
   "cell_type": "code",
   "execution_count": null,
   "metadata": {},
   "outputs": [],
   "source": []
  }
 ],
 "metadata": {
  "kernelspec": {
   "display_name": "base",
   "language": "python",
   "name": "python3"
  },
  "language_info": {
   "codemirror_mode": {
    "name": "ipython",
    "version": 3
   },
   "file_extension": ".py",
   "mimetype": "text/x-python",
   "name": "python",
   "nbconvert_exporter": "python",
   "pygments_lexer": "ipython3",
   "version": "3.9.7"
  },
  "orig_nbformat": 4,
  "vscode": {
   "interpreter": {
    "hash": "40d3a090f54c6569ab1632332b64b2c03c39dcf918b08424e98f38b5ae0af88f"
   }
  }
 },
 "nbformat": 4,
 "nbformat_minor": 2
}
